{
    "nbformat_minor": 1, 
    "cells": [
        {
            "source": "<h1>Report. Open new Ice cream shop</h1>", 
            "cell_type": "markdown", 
            "metadata": {}
        }, 
        {
            "source": "<h3>Table of Contents</h3>", 
            "cell_type": "markdown", 
            "metadata": {}
        }, 
        {
            "source": "<ol>\n    <li><b>Introduction and Business Problem</b></li>\n    <li><b>Description of the Data Set</b></li>\n    <li><b>Methodology</b></li>\n    <li><b>Results</b></li>\n    <li><b>Discussion</b></li>\n    <li><b>Conclusion</b></li>\n</ol>", 
            "cell_type": "markdown", 
            "metadata": {}
        }, 
        {
            "source": "<h1>1. Introduction and Business Problem</h1>", 
            "cell_type": "markdown", 
            "metadata": {
                "collapsed": true
            }
        }, 
        {
            "source": "<h3>1.1 Context</h3>", 
            "cell_type": "markdown", 
            "metadata": {}
        }, 
        {
            "source": "The scope of this report is locate the best place for open a new ice cream shop in Rimini, Italy.<br/> This report is aimed at those who need to open a new ice cream parlour because in Rimini there are already so many open ones, some of which are very famous in the area, and a good position is useful for the end customer, such as opening it near the beach, near the center or near public transport. <br/> Find the right location is important for get financial benefit and advantage against the competition, especially in summer with the arrival of tourists.", 
            "cell_type": "markdown", 
            "metadata": {}
        }, 
        {
            "source": "<h3>1.2 Goal</h3>", 
            "cell_type": "markdown", 
            "metadata": {}
        }, 
        {
            "source": "In the end the goal is to find one or more small areas where open the new shop.", 
            "cell_type": "markdown", 
            "metadata": {}
        }, 
        {
            "source": "<h1>2. Description of the Data Set</h1>", 
            "cell_type": "markdown", 
            "metadata": {}
        }, 
        {
            "source": "<h3>2.1 Source</h3>", 
            "cell_type": "markdown", 
            "metadata": {}
        }, 
        {
            "source": "The data set will be provided via Foursquare Api. <br/>\nWith that calls we will obtain the place location of our interest and the values that represents if the venues in the place are appreciated by the people like the rating.", 
            "cell_type": "markdown", 
            "metadata": {}
        }, 
        {
            "source": "<h3>2.2 Example</h3>", 
            "cell_type": "markdown", 
            "metadata": {}
        }, 
        {
            "source": "Here we have a bare axample of what data we need, related to a place, to perform our analysis.", 
            "cell_type": "markdown", 
            "metadata": {}
        }, 
        {
            "source": "<table>\n    <tr>\n        <th>Neighborhood</th>\n        <th>Neighborhood Latitude</th>\n        <th>Neighborhood Longitude</th>\n        <th>ID Venue</th>\n        <th>Venue</th>\n        <th>Venue Latitude</th>\n        <th>Venue Longitude</th>\n        <th>Venue Category</th>\n    </tr>\n    <tr>\n        <td>Rimini</td>\n        <td>44.059389</td>\n        <td>12.568437</td>\n        <td>4c7d4e57b53db1f793b49c11</td>\n        <td>Gelateria La Romana</td>\n        <td>44.061999</td>\n        <td>12.567570</td>\n        <td>Ice Cream Shop</td>\n    </tr>\n    <tr>\n        <td>Rimini</td>\n        <td>44.059389</td>\n        <td>12.568437</td>\n        <td>4bdc89912a3a0f47be4db3b6</td>\n        <td>Gelateria Il Castello</td>\n        <td>44.058969</td>\n        <td>12.563041</td>\n        <td>Ice Cream Shop</td>\n    </tr>\n    <tr>\n        <td>Rimini</td>\n        <td>44.059389</td>\n        <td>12.568437</td>\n        <td>4fa440f9e4b08e1f87f70c9b</td>\n        <td>Puro & Bio</td>\n        <td>44.057315</td>\n        <td>12.560378</td>\n        <td>Ice Cream Shop</td>\n    </tr>\n    <tr>\n        <td>Rimini</td>\n        <td>44.059389</td>\n        <td>12.568437</td>\n        <td>4d8df2ce1716a1439c1125f7</td>\n        <td>Gelateria Marselli</td>\n        <td>44.056169</td>\n        <td>12.575805</td>\n        <td>Ice Cream Shop</td>\n    </tr>\n    <tr>\n        <td>Rimini</td>\n        <td>44.059389</td>\n        <td>12.568437</td>\n        <td>4fce6990e4b0f39ffff84921</td>\n        <td>Gelateria Biologica Santa Colomba</td>\n        <td>44.060680</td>\n        <td>12.564600</td>\n        <td>Ice Cream Shop</td>\n    </tr>\t\n</table>\n\n<i>Figure 1. DataSet of ice cream shops in Rimini.</i>", 
            "cell_type": "markdown", 
            "metadata": {}
        }, 
        {
            "source": "<h1>3. Methodology</h1>", 
            "cell_type": "markdown", 
            "metadata": {}
        }, 
        {
            "source": "This problem falls into the clustering category. <br/> Our goal is to find one or more areas, to open the new store, where there is a concentration of low or mediocre ratings because it is more easier for the end customer to grow and make a name for himself in the area.", 
            "cell_type": "markdown", 
            "metadata": {}
        }, 
        {
            "source": "<h3>3.1 Data Exploration</h3>", 
            "cell_type": "markdown", 
            "metadata": {}
        }, 
        {
            "source": "The best way to explore location data is to plot it. We filtered all records for Ice cream shop category and eliminate the other, since we run our query multiple times to cover the entire city.", 
            "cell_type": "markdown", 
            "metadata": {}
        }, 
        {
            "source": "For the rating we consider a place to be very good if it has a rating score above 8, while we consider it a mediocre place if it has a rating score below 7 and it is of low quality. Everything that falls between 7 and 8 is thus considered of medium quality.", 
            "cell_type": "markdown", 
            "metadata": {}
        }, 
        {
            "source": "<h3>3.2 Chosing the right algorithm</h3>", 
            "cell_type": "markdown", 
            "metadata": {}
        }, 
        {
            "source": "We have two main options with which we can procede in our clustering problem:", 
            "cell_type": "markdown", 
            "metadata": {}
        }, 
        {
            "source": "<ul>\n    <li>Classic clustering algorithm named KMeans</li>\n    <li>Density based clustering named DBSCAN</li>\n</ul>", 
            "cell_type": "markdown", 
            "metadata": {}
        }, 
        {
            "source": "For this problem, since we know that the town has various zones with very different densities and we want all of our points inside a cluster, we would be using KMeans.", 
            "cell_type": "markdown", 
            "metadata": {}
        }, 
        {
            "source": "<h3>3.3 Data Manipulation and Clustering</h3>", 
            "cell_type": "markdown", 
            "metadata": {}
        }, 
        {
            "source": "After using the Api calls of Foursquare and after various refinements\nwe were able to obtain the corresponding rating for each venue. <br/>\nUsing the KMeans algorithm we were able to delineate the clusters of\nthe membership of each venue is available in Figure 2.", 
            "cell_type": "markdown", 
            "metadata": {}
        }, 
        {
            "source": "<table>\n    <tr>\n        <th>Venue</th>\n        <th>Latitude</th>\n        <th>Longitude</th>\n        <th>Rating</th>\n        <th>Cluster</th>\n    </tr>\n    <tr>\n        <td>Gelateria La Romana</td>\n        <td>44.061999</td>\n        <td>12.567570</td>\n        <td>8.8</td>\n        <td>3</td>\n    </tr>\n    <tr>\n        <td>Gelateria Il Castello</td>\n        <td>44.058969</td>\n        <td>12.563041</td>\n        <td>8.6</td>\n        <td>1</td>\n    </tr>\n    <tr>\n        <td>Puro & Bio</td>\n        <td>44.057315</td>\n        <td>12.560378</td>\n        <td>8.2</td>\n        <td>1</td>\n    </tr>\n    <tr>\n        <td>Gelateria Marselli</td>\n        <td>44.056169</td>\n        <td>12.575805</td>\n        <td>8.6</td>\n        <td>1</td>\n    </tr>\n    <tr>\n        <td>Gelateria Biologica Santa Colomba</td>\n        <td>44.060680</td>\n        <td>12.564600</td>\n        <td>8.0</td>\n        <td>0</td>\n    </tr>\t\n</table>\n\n<i>Figure 2. DataSet of ice cream shops in Rimini with relative rating and cluster.</i>", 
            "cell_type": "markdown", 
            "metadata": {}
        }, 
        {
            "source": "<h1>4. Results</h1>", 
            "cell_type": "markdown", 
            "metadata": {}
        }, 
        {
            "source": "<h3>4.1 A first look</h3>", 
            "cell_type": "markdown", 
            "metadata": {}
        }, 
        {
            "source": "After running our KMeans multiple times and plotting the \"Elbow\", we see that going further 4 clusters does not improve significantly our information gain or does not decrease significantly our loss.", 
            "cell_type": "markdown", 
            "metadata": {}
        }, 
        {
            "source": "Taking a closer look at those 4 clusters we see that:\n\n- 2 of them are near the sea with low ratings expecially one on the seafront <br/>\n- The other 2 of them are in the outback with good ratings", 
            "cell_type": "markdown", 
            "metadata": {}
        }, 
        {
            "source": "<h3>4.2 A closed look</h3>", 
            "cell_type": "markdown", 
            "metadata": {}
        }, 
        {
            "source": "Looking closer at our clusters we can obtain the average rank for each of our group:", 
            "cell_type": "markdown", 
            "metadata": {}
        }, 
        {
            "source": "<table>\n    <tr>\n        <th>Cluster</th>\n        <th>Rating</th>\n    </tr>\n    <tr>\n        <td>0</td>\n        <td>7.950</td>\n    </tr>\n    <tr>\n        <td>1</td>\n        <td>8.475</td>\n    </tr>\n    <tr>\n        <td>2</td>\n        <td>7.600</td>\n    </tr>\n    <tr>\n        <td>3</td>\n        <td>8.800</td>\n    </tr>\n</table>", 
            "cell_type": "markdown", 
            "metadata": {}
        }, 
        {
            "source": "The data confirms our hypothesis: cluster 2 have an average rank below our \"good\" threshold, while cluster 3 has a very high average \"quality\" compared to all other clusters.", 
            "cell_type": "markdown", 
            "metadata": {}
        }, 
        {
            "source": "<h3>4.3 Where to place our ice cream shop?</h3>", 
            "cell_type": "markdown", 
            "metadata": {}
        }, 
        {
            "source": "In the end a good point to start is placing the centroid of cluster 2 and start looking for all the possible places that can be rent to build our new ice cream shop.", 
            "cell_type": "markdown", 
            "metadata": {}
        }, 
        {
            "source": "<h1>5. Discussion</h1>", 
            "cell_type": "markdown", 
            "metadata": {}
        }, 
        {
            "source": "<h3>5.1 Choosing the right algorithm</h3>", 
            "cell_type": "markdown", 
            "metadata": {}
        }, 
        {
            "source": "We was preferred to choose KMeans over DBSCAN because we needed to consider all points of the dataset, even those who are away from the others.<br/> On top of that it is very common to forget that Density based Algorithms work with the concept of Fixed density, and that they are not suitable if the dataset shows different densities among clusters. <br/> In the end choosing the right algorithm makes a big difference in giving the best result to a certain problem.", 
            "cell_type": "markdown", 
            "metadata": {}
        }, 
        {
            "source": "<h3>5.2 The importance of Data</h3>", 
            "cell_type": "markdown", 
            "metadata": {}
        }, 
        {
            "source": "In these types of problems it is important to have as much data as possible available\nbecause as in the case of the city of Rimini, city\nsmall compared to Milan or Rome, there is little information on\nopen activities and evaluations left by users. <br/>\nThe problem is because it is not widespread as an application compared to other more popular ones in Italy\nand therefore few users have surveyed the information on the territory. <br/>\nThe algorithm worked well but if it had more information to work with\nmore detailed clusters could have been established. <br/>\nEven if the data was not many, however, it was clear, not dirty and not redundant, making the analysis faster.", 
            "cell_type": "markdown", 
            "metadata": {}
        }, 
        {
            "source": "<h1>6. Conclusion</h1>", 
            "cell_type": "markdown", 
            "metadata": {}
        }, 
        {
            "source": "In the end our experiment we correctly identified the zone where a potential investor could open an ice cream shop, near the seafront.", 
            "cell_type": "markdown", 
            "metadata": {}
        }
    ], 
    "metadata": {
        "kernelspec": {
            "display_name": "Python 3.5", 
            "name": "python3", 
            "language": "python"
        }, 
        "language_info": {
            "mimetype": "text/x-python", 
            "nbconvert_exporter": "python", 
            "version": "3.5.5", 
            "name": "python", 
            "file_extension": ".py", 
            "pygments_lexer": "ipython3", 
            "codemirror_mode": {
                "version": 3, 
                "name": "ipython"
            }
        }
    }, 
    "nbformat": 4
}