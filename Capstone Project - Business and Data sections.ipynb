{
    "nbformat_minor": 1, 
    "cells": [
        {
            "source": "<h1>1. Introduction and Business Problem</h1>", 
            "cell_type": "markdown", 
            "metadata": {}
        }, 
        {
            "source": "<h3>Context</h3>", 
            "cell_type": "markdown", 
            "metadata": {}
        }, 
        {
            "source": "The scope of this report is locate the best place for open a new ice cream shop in Rimini, Italy.<br/> Find the right location is important for get financial benefit and advantage against the competition, especially in summer with the arrival of tourists.", 
            "cell_type": "markdown", 
            "metadata": {}
        }, 
        {
            "source": "<h3>Goal</h3>", 
            "cell_type": "markdown", 
            "metadata": {}
        }, 
        {
            "source": "In the end the goal is to find one or more small areas where open the new shop.", 
            "cell_type": "markdown", 
            "metadata": {}
        }, 
        {
            "source": "<h1>2. Description of the Data Set</h1>", 
            "cell_type": "markdown", 
            "metadata": {}
        }, 
        {
            "source": "<h3>Source</h3>", 
            "cell_type": "markdown", 
            "metadata": {}
        }, 
        {
            "source": "The data set will be provided via Foursquare Api. \nWith that calls we will obtain the place location of our interest and the values that represents if the venues in the place are appreciated by the people like the rating.", 
            "cell_type": "markdown", 
            "metadata": {}
        }, 
        {
            "source": "<h3>Example</h3>", 
            "cell_type": "markdown", 
            "metadata": {}
        }, 
        {
            "source": "Here we have a bare axample of what data we need, related to a place, to perform our analysis.", 
            "cell_type": "markdown", 
            "metadata": {}
        }, 
        {
            "source": "<table>\n    <tr>\n        <th>Venue</th>\n        <th>Venue Latitude</th>\n        <th>Venue Longitude</th>\n        <th>Rating</th>\n    </tr>\n    <tr>\n        <td>Gelateria La Romana</td>\n        <td>44.061999</td>\n        <td>12.567570</td>\n        <td>8.8</td>\n    </tr>\n    <tr>\n        <td>Gelateria Il Castello</td>\n        <td>44.058969</td>\n        <td>12.563041</td>\n        <td>8.6</td>\n    </tr>\n    <tr>\n        <td>Gelateria Biologica Santa Colomba</td>\n        <td>44.060680</td>\n        <td>12.564600</td>\n        <td>8.0</td>\n    </tr>\n    <tr>\n        <td>Gelateria Marselli</td>\n        <td>44.056169</td>\n        <td>12.575805</td>\n        <td>8.6</td>\n    </tr>\n    <tr>\n        <td>Puro & Bio</td>\n        <td>44.057315</td>\n        <td>12.560378</td>\n        <td>8.2</td>\n    </tr>\t\n</table>", 
            "cell_type": "markdown", 
            "metadata": {
                "collapsed": true
            }
        }
    ], 
    "metadata": {
        "kernelspec": {
            "display_name": "Python 3.5", 
            "name": "python3", 
            "language": "python"
        }, 
        "language_info": {
            "mimetype": "text/x-python", 
            "nbconvert_exporter": "python", 
            "version": "3.5.5", 
            "name": "python", 
            "file_extension": ".py", 
            "pygments_lexer": "ipython3", 
            "codemirror_mode": {
                "version": 3, 
                "name": "ipython"
            }
        }
    }, 
    "nbformat": 4
}